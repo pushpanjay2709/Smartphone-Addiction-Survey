{
  "nbformat": 4,
  "nbformat_minor": 0,
  "metadata": {
    "colab": {
      "provenance": [],
      "collapsed_sections": [
        "uifE0KrZEyt6",
        "TcNJTsuA8-HZ",
        "siYTvfff-jNX",
        "BobYdTnDz1lt",
        "SJc5jyAFwfk7"
      ]
    },
    "kernelspec": {
      "name": "python3",
      "display_name": "Python 3"
    },
    "language_info": {
      "name": "python"
    }
  },
  "cells": [
    {
      "cell_type": "code",
      "source": [
        "from google.colab import drive\n",
        "drive.mount('/content/drive')"
      ],
      "metadata": {
        "id": "UoT9I7UHViES"
      },
      "execution_count": null,
      "outputs": []
    },
    {
      "cell_type": "code",
      "source": [
        "%cd /content/drive/MyDrive/HS341-SmartphoneAddiction"
      ],
      "metadata": {
        "id": "Oc_guJTgV57P"
      },
      "execution_count": null,
      "outputs": []
    },
    {
      "cell_type": "code",
      "execution_count": null,
      "metadata": {
        "id": "LN3OZt9imFhH"
      },
      "outputs": [],
      "source": [
        "import pandas as pd\n",
        "import numpy as np\n",
        "import matplotlib.pyplot as plt\n",
        "import re\n",
        "import sys\n",
        "from statistics import mode\n",
        "!pip install pingouin\n",
        "import pingouin as pg"
      ]
    },
    {
      "cell_type": "code",
      "source": [
        "df = pd.read_excel('/content/drive/MyDrive/HS341-SmartphoneAddiction/Smartphone Addiction Survey (Responses).xlsx')"
      ],
      "metadata": {
        "id": "RroCTfa3mO1d"
      },
      "execution_count": null,
      "outputs": []
    },
    {
      "cell_type": "code",
      "source": [
        "df = df.fillna('')"
      ],
      "metadata": {
        "id": "ArOGxwnUOAmS"
      },
      "execution_count": null,
      "outputs": []
    },
    {
      "cell_type": "code",
      "source": [
        "df"
      ],
      "metadata": {
        "id": "XwEyhex0mrFL"
      },
      "execution_count": null,
      "outputs": []
    },
    {
      "cell_type": "code",
      "source": [
        "col = list(df.columns)\n",
        "print(type(col),col)\n",
        "\n",
        "with open('/content/col_list.txt','w') as f:\n",
        "  for i in range(len(col)):\n",
        "    print(i, ' - ', col[i])\n",
        "    f.write(str(i)+' - '+str(col[i])+'\\n')\n"
      ],
      "metadata": {
        "id": "MZgbScoumsZl"
      },
      "execution_count": null,
      "outputs": []
    },
    {
      "cell_type": "code",
      "source": [],
      "metadata": {
        "id": "eFcJWvWd5Q8X"
      },
      "execution_count": null,
      "outputs": []
    },
    {
      "cell_type": "code",
      "source": [
        "col_list=[]\n",
        "for col_name in list(df.columns):\n",
        "  col_list.append(col_name)\n",
        "\n",
        "resp_dic={}\n",
        "for i in range(len(col_list)):\n",
        "  resp_dic[col_list[i]]=df[col_list[i]].to_list()"
      ],
      "metadata": {
        "id": "nM9cAsBzCpaB"
      },
      "execution_count": null,
      "outputs": []
    },
    {
      "cell_type": "code",
      "source": [
        "print(resp_dic)"
      ],
      "metadata": {
        "id": "qifazEuUEYga"
      },
      "execution_count": null,
      "outputs": []
    },
    {
      "cell_type": "code",
      "source": [
        "print(col_list)"
      ],
      "metadata": {
        "id": "w6T_0J2rGSdf"
      },
      "execution_count": null,
      "outputs": []
    },
    {
      "cell_type": "code",
      "source": [],
      "metadata": {
        "id": "OyiLAK9ODbJ7"
      },
      "execution_count": null,
      "outputs": []
    },
    {
      "cell_type": "code",
      "source": [
        "arr = df.to_numpy()\n",
        "print(arr.shape,arr,sep='\\n')"
      ],
      "metadata": {
        "id": "mmLWD0MjDa3q"
      },
      "execution_count": null,
      "outputs": []
    },
    {
      "cell_type": "code",
      "source": [
        "print(arr[0])"
      ],
      "metadata": {
        "id": "8PkiCtFUCa_G"
      },
      "execution_count": null,
      "outputs": []
    },
    {
      "cell_type": "code",
      "source": [],
      "metadata": {
        "id": "DaWR9dyGES3P"
      },
      "execution_count": null,
      "outputs": []
    },
    {
      "cell_type": "markdown",
      "source": [
        "**Questions:**\n",
        "1. 2 -> Age\n",
        "2. 3 -> Gender\n",
        "3. 4 -> Country\n",
        "4. 6 -> Stream\n",
        "5. 7 -> Age of introduction to smartphone (SP)\n",
        "6. 8 -> Daily SP usage time\n",
        "7. 9 -> Frequency of checking SP\n",
        "8. 10-16 -> How they use SP (7 categories)\n",
        "9. 17 -> Study time on SP\n",
        "10. 18 -> Entertainment time on SP\n",
        "11. 19 -> Control SP usage\n",
        "12. 20 -> +ve experience -> Satisfaction\n",
        "13. 20 -> +ve experience -> Happiness\n",
        "14. 22 -> +ve experience -> Knowledge \n",
        "15. 23 -> -ve experience -> Dissatisfaction\n",
        "16. 24 -> -ve experience -> Regret\n",
        "17. 25 -> -ve experience -> Time waste\n",
        "18. 26 -> Incident -> too much time on SP\n",
        "19. 27 -> Incident -> difficult to stay away from smartphone\n",
        "20. 28 -> Incident -> anxious without smartphone\n",
        "21. 29, 30 -> Incident -> checking smartphone before sleep/after wake\n",
        "22. 31 -> Effect on mental health -> emotional state\n",
        "23. 32 -> Effect on mental health -> decision making\n",
        "24. 33 -> Effect on mental health -> social relations\n",
        "25. 34 -> Socialise more using SP or irl\n",
        "26. 35 -> Give up SP?\n",
        "27. 36 -> SP on mental health - good or bad?\n",
        "28. 37 -> Academic performance\n",
        "29. 38 -> Work completion\n",
        "30. 39 -> SP influence on work perf.\n",
        "31. 40, 41 -> SP effect work -> beneficial\n",
        "32. 42, 43 -> SP effect work -> harmful\n",
        "33. 44 -> perf. improve without SP\n"
      ],
      "metadata": {
        "id": "URY1xGVLamKz"
      }
    },
    {
      "cell_type": "markdown",
      "source": [
        "#**GENERAL DATASET**\n"
      ],
      "metadata": {
        "id": "EV_V1XBsG7wN"
      }
    },
    {
      "cell_type": "code",
      "source": [
        "### Age -> 2\n",
        "tag = col_list[2]\n",
        "print(tag)"
      ],
      "metadata": {
        "id": "PsDPWWNJG7On"
      },
      "execution_count": null,
      "outputs": []
    },
    {
      "cell_type": "code",
      "source": [
        "print(df[tag].value_counts())"
      ],
      "metadata": {
        "id": "QACe12IeKCPO"
      },
      "execution_count": null,
      "outputs": []
    },
    {
      "cell_type": "code",
      "source": [
        "plt.close('all')\n",
        "age_dic={'-<17':0,'17-<19':0,'19-<22':0,'22-<25':0,'25-<':0}\n",
        "\n",
        "for i in range(arr.shape[0]):\n",
        "  for rng in list(age_dic.keys()):\n",
        "    start = rng.split('-<')[0]\n",
        "    if start:\n",
        "      start = float(start)\n",
        "    else:\n",
        "      start = 0\n",
        "    fin = rng.split('-<')[1]\n",
        "    if fin:\n",
        "      fin = float(fin)\n",
        "    else:\n",
        "      fin = 1000\n",
        "    if (arr[i][2] >= start) and (arr[i][2] < fin):\n",
        "      age_dic[rng]+=1\n",
        "print(age_dic)\n",
        "\n",
        "plt.pie(age_dic.values(), labels=age_dic.keys(), explode = [0.1]*len(age_dic.items()), startangle=90, autopct='%1.1f%%', pctdistance = 0.8, counterclock = False, radius=2)\n",
        "plt.savefig('age.png',bbox_inches='tight')"
      ],
      "metadata": {
        "id": "ILjqyKnGG7Mn"
      },
      "execution_count": null,
      "outputs": []
    },
    {
      "cell_type": "code",
      "source": [
        "plt.close('all')\n",
        "fig = plt.figure(figsize = (10, 7.5))\n",
        "# creating the bar plot\n",
        "plt.bar(age_dic.keys(), age_dic.values(), color ='blue', width = 0.9)\n",
        "for i in range(len(age_dic.keys())):\n",
        "  plt.text(i-0.05,list(age_dic.values())[i]+1,list(age_dic.values())[i])\n",
        "plt.xlabel(\"Age of participant\")\n",
        "plt.ylabel(\"No. of responses\")\n",
        "plt.title(\"Demographic Age Distribution\")\n",
        "plt.savefig('age_bar.png',bbox_inches='tight')"
      ],
      "metadata": {
        "id": "nm3T1Y6Cek16"
      },
      "execution_count": null,
      "outputs": []
    },
    {
      "cell_type": "code",
      "source": [
        "### Gender -> 3\n",
        "tag = col_list[3]\n",
        "print(tag)"
      ],
      "metadata": {
        "id": "nInBFxQRG7Xe"
      },
      "execution_count": null,
      "outputs": []
    },
    {
      "cell_type": "code",
      "source": [
        "print(df[tag].value_counts())"
      ],
      "metadata": {
        "id": "GmEzG5dKJH7N"
      },
      "execution_count": null,
      "outputs": []
    },
    {
      "cell_type": "code",
      "source": [
        "plt.close('all')\n",
        "gender_dic={'Male':0,'Female':0,'Other':0}\n",
        "\n",
        "for i in range(arr.shape[0]):\n",
        "  gender_dic[arr[i][3]]+=1\n",
        "print(gender_dic)\n",
        "\n",
        "plt.pie(gender_dic.values(), labels=gender_dic.keys(), explode = [0.05]*len(gender_dic.items()), startangle=90, autopct='%1.1f%%', pctdistance = 0.8, counterclock = False, radius=2)\n",
        "plt.savefig('gender.png',bbox_inches='tight')"
      ],
      "metadata": {
        "id": "HxGTQD-KG7Vc"
      },
      "execution_count": null,
      "outputs": []
    },
    {
      "cell_type": "code",
      "source": [
        "plt.close('all')\n",
        "fig = plt.figure(figsize = (10, 7.5))\n",
        "# creating the bar plot\n",
        "plt.bar(gender_dic.keys(), gender_dic.values(), color ='blue', width = 0.9)\n",
        "for i in range(len(gender_dic.keys())):\n",
        "  plt.text(i-0.05,list(gender_dic.values())[i]+1,list(gender_dic.values())[i])\n",
        "plt.xlabel(\"Gender of participant\")\n",
        "plt.ylabel(\"No. of responses\")\n",
        "plt.title(\"Demographic Gender Distribution\")\n",
        "plt.savefig('gender_bar.png',bbox_inches='tight')"
      ],
      "metadata": {
        "id": "1asJm_4af5tM"
      },
      "execution_count": null,
      "outputs": []
    },
    {
      "cell_type": "code",
      "source": [
        "### Country -> 4\n",
        "cont_list = df['Country'].to_list()\n",
        "\n",
        "for i in range(len(cont_list)):\n",
        "  cont_list[i]=cont_list[i].strip()\n",
        "  cont_list[i]=cont_list[i].lower()\n",
        "\n",
        "print(type(cont_list),cont_list)"
      ],
      "metadata": {
        "id": "OIHLCFCAyYVE"
      },
      "execution_count": null,
      "outputs": []
    },
    {
      "cell_type": "code",
      "source": [
        "for i in range(len(cont_list)):\n",
        "  if re.search('^us|^u.s|^u s|america|states',cont_list[i]):\n",
        "    cont_list[i]='usa'\n",
        "\n",
        "plt.close('all')\n",
        "cont_dic = {}\n",
        "for i in range(len(cont_list)):\n",
        "  if cont_list[i] not in cont_dic.keys():\n",
        "    cont_dic[cont_list[i]]=1\n",
        "  else:\n",
        "    cont_dic[cont_list[i]]+=1\n",
        "print(cont_dic)\n",
        "\n",
        "cont_dic2 = {'India':0, 'Other':0}\n",
        "for i in range(len(cont_list)):\n",
        "  if cont_list[i] == 'india':\n",
        "    cont_dic2['India']+=1\n",
        "  else:\n",
        "    cont_dic2['Other']+=1\n",
        "print(cont_dic2)\n",
        "\n",
        "\n",
        "plt.pie(cont_dic.values(), labels=cont_dic.keys(), explode = [0.05]*len(cont_dic.items()), startangle=90, autopct='%1.1f%%', pctdistance = 0.7, counterclock = False, radius=1)\n",
        "plt.savefig('country.png',bbox_inches='tight')\n",
        "\n",
        "plt.close('all')\n",
        "plt.pie(cont_dic2.values(), labels=cont_dic2.keys(), explode = [0.05]*len(cont_dic2.items()), startangle=90, autopct='%1.1f%%', pctdistance = 0.7, counterclock = False, radius=1)\n",
        "plt.savefig('country2.png',bbox_inches='tight')"
      ],
      "metadata": {
        "id": "EXWQTlopypC0"
      },
      "execution_count": null,
      "outputs": []
    },
    {
      "cell_type": "code",
      "source": [
        "plt.close('all')\n",
        "fig = plt.figure(figsize = (10, 4))\n",
        "plt.bar(cont_dic.keys(), cont_dic.values(), color ='blue', width = 0.9)\n",
        "for i in range(len(cont_dic.keys())):\n",
        "  plt.text(i-0.05,list(cont_dic.values())[i]+1.5,list(cont_dic.values())[i])\n",
        "plt.xlabel(\"Country of participant\")\n",
        "plt.ylabel(\"No. of responses\")\n",
        "plt.title(\"Demographic Country Distribution\")\n",
        "plt.savefig('country_bar.png',bbox_inches='tight')"
      ],
      "metadata": {
        "id": "vSCqpDXnghG_"
      },
      "execution_count": null,
      "outputs": []
    },
    {
      "cell_type": "code",
      "source": [
        "### Age of introduction to SP -> 7\n",
        "tag = col_list[7]\n",
        "print(tag)"
      ],
      "metadata": {
        "id": "XadGdIVLG7Jr"
      },
      "execution_count": null,
      "outputs": []
    },
    {
      "cell_type": "code",
      "source": [
        "print(df[tag].value_counts())"
      ],
      "metadata": {
        "id": "OzpfB_4HG7Gx"
      },
      "execution_count": null,
      "outputs": []
    },
    {
      "cell_type": "code",
      "source": [
        "plt.close('all')\n",
        "init_dic={'less than 8 year':0,'8 - 14 years':0,'15 - 20 years':0,'21 - 28 years':0,'more than 28 years':0}\n",
        "\n",
        "for i in range(arr.shape[0]):\n",
        "  init_dic[arr[i][7]]+=1\n",
        "print(init_dic)\n",
        "\n",
        "plt.pie(init_dic.values(), labels=init_dic.keys(), explode = [0.1]*len(init_dic.items()), startangle=90, autopct='%1.1f%%', pctdistance = 0.8, counterclock = False, radius=2)\n",
        "plt.savefig('init_age.png',bbox_inches='tight')"
      ],
      "metadata": {
        "id": "qK2F-YiIvwCY"
      },
      "execution_count": null,
      "outputs": []
    },
    {
      "cell_type": "code",
      "source": [
        "plt.close('all')\n",
        "fig = plt.figure(figsize = (10, 7.5))\n",
        "plt.bar(init_dic.keys(), init_dic.values(), color ='blue', width = 0.9)\n",
        "for i in range(len(init_dic.keys())):\n",
        "  plt.text(i-0.05,list(init_dic.values())[i]+1,list(init_dic.values())[i])\n",
        "plt.xlabel(\"Age of introduction to smartphone\")\n",
        "plt.ylabel(\"No. of responses\")\n",
        "plt.title(\"Smartphone Introduction Age Distribution\")\n",
        "plt.savefig('init_age_bar.png',bbox_inches='tight')"
      ],
      "metadata": {
        "id": "VyosFY_jjiZ_"
      },
      "execution_count": null,
      "outputs": []
    },
    {
      "cell_type": "code",
      "source": [
        "plt.close('all')\n",
        "init_dic={'less than 8 year':12,'8 - 14 years':67,'15 - 20 years':226,'21 - 25 years':15}\n",
        "fig = plt.figure(figsize = (10, 7.5))\n",
        "plt.bar(init_dic.keys(), init_dic.values(), color ='blue', width = 0.9)\n",
        "for i in range(len(init_dic.keys())):\n",
        "  plt.text(i-0.05,list(init_dic.values())[i]+1,list(init_dic.values())[i])\n",
        "plt.xlabel(\"Age of introduction to smartphone\")\n",
        "plt.ylabel(\"No. of responses\")\n",
        "plt.title(\"Smartphone Introduction Age Distribution\")\n",
        "plt.savefig('init_age_bar.png',bbox_inches='tight')"
      ],
      "metadata": {
        "id": "Ue2dlwHQ3AUN"
      },
      "execution_count": null,
      "outputs": []
    },
    {
      "cell_type": "code",
      "source": [
        "### Usage duration -> 8\n",
        "tag = col_list[8]\n",
        "print(tag)"
      ],
      "metadata": {
        "id": "4PKrZ5cVG7Cu"
      },
      "execution_count": null,
      "outputs": []
    },
    {
      "cell_type": "code",
      "source": [
        "print(df[tag].value_counts())"
      ],
      "metadata": {
        "id": "Ldx5jHDLG7BE"
      },
      "execution_count": null,
      "outputs": []
    },
    {
      "cell_type": "code",
      "source": [
        "plt.close('all')\n",
        "usage_dic={'less than 2 hours':0,'2 - 4 hours':0,'4 - 6 hours':0,'6 - 8 hours':0,'8 - 10 hours':0,'more than 10 hours':0}\n",
        "\n",
        "for i in range(arr.shape[0]):\n",
        "  usage_dic[arr[i][8]]+=1\n",
        "print(usage_dic)\n",
        "\n",
        "plt.pie(usage_dic.values(), labels=usage_dic.keys(), explode = [0.1]*len(usage_dic.items()), startangle=90, autopct='%1.1f%%', pctdistance = 0.8, counterclock = False, radius=2)\n",
        "plt.savefig('usage.png',bbox_inches='tight')"
      ],
      "metadata": {
        "id": "-IZZ269B17Xc"
      },
      "execution_count": null,
      "outputs": []
    },
    {
      "cell_type": "code",
      "source": [
        "plt.close('all')\n",
        "fig = plt.figure(figsize = (10, 7.5))\n",
        "plt.bar(usage_dic.keys(), usage_dic.values(), color ='blue', width = 0.9)\n",
        "for i in range(len(usage_dic.keys())):\n",
        "  plt.text(i-0.05,list(usage_dic.values())[i]+1,list(usage_dic.values())[i])\n",
        "plt.xlabel(\"No. of hours of daily smartphone use\")\n",
        "plt.ylabel(\"No. of responses\")\n",
        "plt.title(\"Smartphone Usage Hours Distribution\")\n",
        "plt.savefig('usage_bar.png',bbox_inches='tight')"
      ],
      "metadata": {
        "id": "1pUm6XVEj8pN"
      },
      "execution_count": null,
      "outputs": []
    },
    {
      "cell_type": "code",
      "source": [
        "### Usage frequency -> 9\n",
        "tag = col_list[9]\n",
        "print(tag)"
      ],
      "metadata": {
        "id": "TKPNUSHRF7af"
      },
      "execution_count": null,
      "outputs": []
    },
    {
      "cell_type": "code",
      "source": [
        "print(df[tag].value_counts())"
      ],
      "metadata": {
        "id": "FnfkObP-ahyj"
      },
      "execution_count": null,
      "outputs": []
    },
    {
      "cell_type": "code",
      "source": [
        "plt.close('all')\n",
        "freq_dic={'less than once':0,'once':0,'2 - 3 times':0,'4 - 5 times':0,'6 - 7 times':0,'more than 7 times':0}\n",
        "\n",
        "for i in range(arr.shape[0]):\n",
        "  freq_dic[arr[i][9]]+=1\n",
        "print(freq_dic)\n",
        "\n",
        "plt.pie(freq_dic.values(), labels=freq_dic.keys(), explode = [0.1]*len(freq_dic.items()), startangle=90, autopct='%1.1f%%', pctdistance = 0.8, counterclock = False, radius=2)\n",
        "plt.savefig('freq.png',bbox_inches='tight')"
      ],
      "metadata": {
        "id": "M5O9MAnC3IE4"
      },
      "execution_count": null,
      "outputs": []
    },
    {
      "cell_type": "code",
      "source": [
        "plt.close('all')\n",
        "fig = plt.figure(figsize = (10, 7.5))\n",
        "plt.bar(freq_dic.keys(), freq_dic.values(), color ='blue', width = 0.9)\n",
        "for i in range(len(freq_dic.keys())):\n",
        "  plt.text(i-0.05,list(freq_dic.values())[i]+1,list(freq_dic.values())[i])\n",
        "plt.xlabel(\"No. of times pick up smartphone in 15 mins\")\n",
        "plt.ylabel(\"No. of responses\")\n",
        "plt.title(\"Smartphone Frequency Distribution\")\n",
        "plt.savefig('freq_bar.png',bbox_inches='tight')"
      ],
      "metadata": {
        "id": "Z8QZkXMUmfnL"
      },
      "execution_count": null,
      "outputs": []
    },
    {
      "cell_type": "code",
      "source": [
        "### Limit usage -> 19\n",
        "tag = col_list[19]\n",
        "print(tag)"
      ],
      "metadata": {
        "id": "KyxDuNC5ahwq"
      },
      "execution_count": null,
      "outputs": []
    },
    {
      "cell_type": "code",
      "source": [
        "print(df[tag].value_counts())"
      ],
      "metadata": {
        "id": "v7H5yGXajvIB"
      },
      "execution_count": null,
      "outputs": []
    },
    {
      "cell_type": "code",
      "source": [
        "plt.close('all')\n",
        "lim_dic={'Yes, successful':0,'Yes, partially successful':0,'Yes, not successful':0,'No':0}\n",
        "\n",
        "for i in range(arr.shape[0]):\n",
        "  lim_dic[arr[i][19]]+=1\n",
        "print(lim_dic)\n",
        "\n",
        "plt.pie(lim_dic.values(), labels=lim_dic.keys(), explode = [0.1]*len(lim_dic.items()), startangle=90, autopct='%1.1f%%', pctdistance = 0.8, counterclock = False, radius=2)\n",
        "plt.savefig('lim.png',bbox_inches='tight')"
      ],
      "metadata": {
        "id": "KlUXMrNM3-Aq"
      },
      "execution_count": null,
      "outputs": []
    },
    {
      "cell_type": "code",
      "source": [
        "plt.close('all')\n",
        "fig = plt.figure(figsize = (10, 7.5))\n",
        "plt.bar(lim_dic.keys(), lim_dic.values(), color ='blue', width = 0.9)\n",
        "for i in range(len(lim_dic.keys())):\n",
        "  plt.text(i-0.05,list(lim_dic.values())[i]+1,list(lim_dic.values())[i])\n",
        "plt.xlabel(\"Attempts to limit smartphone usage\")\n",
        "plt.ylabel(\"No. of responses\")\n",
        "plt.title(\"Limit Usage Distribution\")\n",
        "plt.savefig('lim_bar.png',bbox_inches='tight')"
      ],
      "metadata": {
        "id": "pEFqhD4coG7x"
      },
      "execution_count": null,
      "outputs": []
    },
    {
      "cell_type": "code",
      "source": [],
      "metadata": {
        "id": "8i4epyM8ahuD"
      },
      "execution_count": null,
      "outputs": []
    },
    {
      "cell_type": "code",
      "source": [],
      "metadata": {
        "id": "0RoBBk29hkEz"
      },
      "execution_count": null,
      "outputs": []
    },
    {
      "cell_type": "markdown",
      "source": [
        "#SCORES"
      ],
      "metadata": {
        "id": "6kZ279GkhoHL"
      }
    },
    {
      "cell_type": "code",
      "source": [
        "Person_score = []"
      ],
      "metadata": {
        "id": "Zj136RzIhst8"
      },
      "execution_count": null,
      "outputs": []
    },
    {
      "cell_type": "markdown",
      "source": [
        "# **Smartphone Addiction Scores**\n",
        "\n",
        "\n"
      ],
      "metadata": {
        "id": "uifE0KrZEyt6"
      }
    },
    {
      "cell_type": "code",
      "source": [
        "SAS_Score_list = []"
      ],
      "metadata": {
        "id": "JKc7EELWR9rJ"
      },
      "execution_count": null,
      "outputs": []
    },
    {
      "cell_type": "code",
      "source": [
        "# count of unique values \n",
        "print(df['How much time (approx.) do you spend on your smartphone in a day?'].value_counts()) #8\n",
        "print(df['How much time on a daily average do you spend on social media / gaming / entertainment on your smartphone?'].value_counts()) #17\n",
        "print(df['How much time on a daily average do you spend on studies / work on your smartphone?'].value_counts()) #18\n",
        "print(df['Have you ever tried to control/limit your smartphone usage? Were you successful?'].value_counts()) #19\n",
        "# count of unique values \n",
        "print(df['How often do you find yourself checking your phone? (on average, how many times in 15 minutes)'].value_counts()) #9\n",
        "print(df['If you were given a choice to use a phone with only calling/SMS services, would you switch to that?'].value_counts()) #35\n",
        "print(df['Do you feel...? [you spend too much time on your smartphone]'].value_counts()) #26\n",
        "print(df['Do you feel...? [find it difficult to stay away from your smartphone]'].value_counts()) #27\n",
        "print(df['Do you feel...? [feel anxious or uncomfortable when you don\\'t have your smartphone with you]'].value_counts()) #28\n",
        "print(df['Do you feel...? [find yourself checking your phone before going to sleep at night]'].value_counts()) #29\n",
        "print(df['Do you feel...? [find yourself checking your phone after waking up in the morning]'].value_counts()) #30"
      ],
      "metadata": {
        "id": "VHqnjC75iMBw"
      },
      "execution_count": null,
      "outputs": []
    },
    {
      "cell_type": "markdown",
      "source": [
        "## Score (0-6) based on daily usage time + entertainment time + work time + limit usage correlation"
      ],
      "metadata": {
        "id": "TcNJTsuA8-HZ"
      }
    },
    {
      "cell_type": "code",
      "source": [
        "# count of unique values \n",
        "print(df['How much time (approx.) do you spend on your smartphone in a day?'].value_counts()) #8\n",
        "print(df['How much time on a daily average do you spend on social media / gaming / entertainment on your smartphone?'].value_counts()) #17\n",
        "print(df['How much time on a daily average do you spend on studies / work on your smartphone?'].value_counts()) #18\n",
        "print(df['Have you ever tried to control/limit your smartphone usage? Were you successful?'].value_counts()) #19"
      ],
      "metadata": {
        "id": "Mi8RVmJWE-wN"
      },
      "execution_count": null,
      "outputs": []
    },
    {
      "cell_type": "code",
      "source": [
        "Tu = ['less than 2 hours', '2 - 4 hours', '4 - 6 hours', '6 - 8 hours', '8 - 10 hours', 'more than 10 hours']\n",
        "Wu = [['less than 2 hours'], ['2 - 4 hours'], ['4 - 6 hours', '6 - 8 hours'], ['8 - 10 hours', 'more than 10 hours']] #8\n",
        "We = [[1], [2], [3], [4, 5, 6, 7, 8]] #18\n",
        "Ww = [[5, 6, 7, 8], [3, 4], [2], [1]] #17\n",
        "Lim = ['Yes, successful', 'Yes, partially successful', 'Yes, not successful', 'No'] #19\n",
        "Score_list = []\n",
        "Score_list2 = [] # (_ + Wu)/2\n",
        "Score_list3 = [] # (_/6 + Tu/5)*3\n",
        "\n",
        "for i in range(arr.shape[0]):\n",
        "  # score = 1000\n",
        "  if arr[i][8] in Wu[0] or arr[i][8] in Wu[1]:\n",
        "    if arr[i][18] in We[0] or arr[i][18] in We[1]:\n",
        "      score = 0\n",
        "      Score_list.append(score)\n",
        "    elif arr[i][18] in We[2] or arr[i][18] in We[3]:\n",
        "      if arr[i][17] in Ww[0] or arr[i][17] in Ww[1]:\n",
        "        if arr[i][18]>=arr[i][17]:\n",
        "          score = 1\n",
        "          Score_list.append(score)\n",
        "        elif arr[i][18]<arr[i][17]:\n",
        "          score = 0\n",
        "          Score_list.append(score)\n",
        "      elif arr[i][17] in Ww[2] or arr[i][17] in Ww[3]:\n",
        "        if arr[i][19]==Lim[0]:\n",
        "          score = 1\n",
        "          Score_list.append(score)\n",
        "        elif arr[i][19]==Lim[1]:\n",
        "          score = 2\n",
        "          Score_list.append(score)\n",
        "        elif arr[i][19]==Lim[2]:\n",
        "          score = 3\n",
        "          Score_list.append(score)\n",
        "        elif arr[i][19]==Lim[3]:\n",
        "          score = 3\n",
        "          Score_list.append(score)\n",
        "  elif arr[i][8] in Wu[2] or arr[i][8] in Wu[3]:\n",
        "    if arr[i][18] in We[0] or arr[i][18] in We[1]:\n",
        "      if arr[i][17] in Ww[0] or arr[i][17] in Ww[1]:\n",
        "        if arr[i][19]==Lim[0]:\n",
        "          score = 1\n",
        "          Score_list.append(score)\n",
        "        elif arr[i][19]==Lim[1]:\n",
        "          score = 2\n",
        "          Score_list.append(score)\n",
        "        elif arr[i][19]==Lim[2]:\n",
        "          score = 3\n",
        "          Score_list.append(score)\n",
        "        elif arr[i][19]==Lim[3]:\n",
        "          score = 1\n",
        "          Score_list.append(score)\n",
        "      elif arr[i][17] in Ww[2] or arr[i][17] in Ww[3]:\n",
        "        if arr[i][19]==Lim[0]:\n",
        "          score = 3\n",
        "          Score_list.append(score)\n",
        "        elif arr[i][19]==Lim[1]:\n",
        "          score = 4\n",
        "          Score_list.append(score)\n",
        "        elif arr[i][19]==Lim[2]:\n",
        "          score = 5\n",
        "          Score_list.append(score)\n",
        "        elif arr[i][19]==Lim[3]:\n",
        "          score = 5\n",
        "          Score_list.append(score)\n",
        "    elif arr[i][18] in We[2] or arr[i][18] in We[3]:\n",
        "      if arr[i][17] in Ww[0] or arr[i][17] in Ww[1]:\n",
        "        if arr[i][19]==Lim[0]:\n",
        "          score = 4\n",
        "          Score_list.append(score)\n",
        "        elif arr[i][19]==Lim[1]:\n",
        "          score = 5\n",
        "          Score_list.append(score)\n",
        "        elif arr[i][19]==Lim[2]:\n",
        "          score = 6\n",
        "          Score_list.append(score)\n",
        "        elif arr[i][19]==Lim[3]:\n",
        "          score = 5\n",
        "          Score_list.append(score)\n",
        "      elif arr[i][17] in Ww[2] or arr[i][17] in Ww[3]:\n",
        "        if arr[i][19]==Lim[0]:\n",
        "          score = 4\n",
        "          Score_list.append(score)\n",
        "        elif arr[i][19]==Lim[1]:\n",
        "          score = 5\n",
        "          Score_list.append(score)\n",
        "        elif arr[i][19]==Lim[2]:\n",
        "          score = 6\n",
        "          Score_list.append(score)\n",
        "        elif arr[i][19]==Lim[3]:\n",
        "          score = 6\n",
        "          Score_list.append(score)\n",
        "  for lst in range(len(Wu)):\n",
        "    if arr[i][8] in Wu[lst]:\n",
        "      idx1 = lst\n",
        "  Score_list2.append(int((score+idx1)/2))\n",
        "  \n",
        "  idx2 = Tu.index(arr[i][8])\n",
        "  Score_list3.append(int((score/6+idx2/5)*3))\n",
        "\n",
        "  SAS_Score_list.append(Score_list[i])\n",
        "  \n",
        "  # if score == 1000:\n",
        "  #   print(i)\n",
        "  #   print(f\"Tu: {arr[i][8]}   Te: {arr[i][18]}    Tw: {arr[i][17]}    Lim: {arr[i][19]}   \\n\")\n",
        "\n",
        "for i in range(arr.shape[0]):\n",
        "  # print(f\"Tu: {arr[i][8]}   Te: {arr[i][18]}    Tw: {arr[i][17]}    Lim: {arr[i][19]}   Score: {Score[i]}\")\n",
        "  pass"
      ],
      "metadata": {
        "id": "UqZUt-KMEyU5"
      },
      "execution_count": null,
      "outputs": []
    },
    {
      "cell_type": "code",
      "source": [
        "plt.close('all')\n",
        "print(len(Score_list),Score_list,sep='\\n')\n",
        "score_df = pd.DataFrame(Score_list)\n",
        "score_df = score_df[0].value_counts()\n",
        "score_df.sort_index(inplace=True)\n",
        "print(score_df)\n",
        "plt.plot(score_df.index, score_df)"
      ],
      "metadata": {
        "id": "7_qAsdByEPZh"
      },
      "execution_count": null,
      "outputs": []
    },
    {
      "cell_type": "code",
      "source": [
        "plt.close('all')\n",
        "print(len(Score_list2),Score_list2,sep='\\n')\n",
        "score_df2 = pd.DataFrame(Score_list2)\n",
        "score_df2 = score_df2[0].value_counts()\n",
        "score_df2.sort_index(inplace=True)\n",
        "print(score_df2)\n",
        "plt.plot(score_df2.index, score_df2)"
      ],
      "metadata": {
        "id": "cyl11zdKCaof"
      },
      "execution_count": null,
      "outputs": []
    },
    {
      "cell_type": "code",
      "source": [
        "plt.close('all')\n",
        "print(len(Score_list3),Score_list3,sep='\\n')\n",
        "score_df3 = pd.DataFrame(Score_list3)\n",
        "score_df3 = score_df3[0].value_counts()\n",
        "score_df3.sort_index(inplace=True)\n",
        "print(score_df3)\n",
        "plt.plot(score_df3.index, score_df3)"
      ],
      "metadata": {
        "id": "f9WqngpOG50D"
      },
      "execution_count": null,
      "outputs": []
    },
    {
      "cell_type": "code",
      "source": [
        "plt.close('all')\n",
        "print(len(SAS_Score_list),SAS_Score_list,sep='\\n')\n",
        "SAS_score_df = pd.DataFrame(SAS_Score_list)\n",
        "SAS_score_df = SAS_score_df[0].value_counts()\n",
        "SAS_score_df.sort_index(inplace=True)\n",
        "print(SAS_score_df)\n",
        "plt.plot(SAS_score_df.index, SAS_score_df)"
      ],
      "metadata": {
        "id": "IqIJWbEiW8WD"
      },
      "execution_count": null,
      "outputs": []
    },
    {
      "cell_type": "markdown",
      "source": [
        "## Other SA Scores (0-6)"
      ],
      "metadata": {
        "id": "siYTvfff-jNX"
      }
    },
    {
      "cell_type": "code",
      "source": [
        "# count of unique values \n",
        "print(df['How often do you find yourself checking your phone? (on average, how many times in 15 minutes)'].value_counts()) #9\n",
        "print(df['If you were given a choice to use a phone with only calling/SMS services, would you switch to that?'].value_counts()) #35\n",
        "print(df['Do you feel...? [you spend too much time on your smartphone]'].value_counts()) #26\n",
        "print(df['Do you feel...? [find it difficult to stay away from your smartphone]'].value_counts()) #27\n",
        "print(df['Do you feel...? [feel anxious or uncomfortable when you don\\'t have your smartphone with you]'].value_counts()) #28\n",
        "print(df['Do you feel...? [find yourself checking your phone before going to sleep at night]'].value_counts()) #29\n",
        "print(df['Do you feel...? [find yourself checking your phone after waking up in the morning]'].value_counts()) #30"
      ],
      "metadata": {
        "id": "Itb6lzM4z06q"
      },
      "execution_count": null,
      "outputs": []
    },
    {
      "cell_type": "code",
      "source": [
        "Wf = [['less than once', 'once'], ['2 - 3 times'], ['4 - 5 times'], ['6 - 7 times', 'more than 7 times']] #9\n",
        "Ws = [['Yes, I am comfortable to switching'],['No, I am not comfortable to switching']] #35\n",
        "Wt = [['No'], ['Yes']] #26\n",
        "Wa = [['No'], ['Yes']] #27\n",
        "Wu = [['No'], ['Yes']] #28\n",
        "Wn = [['No'], ['Yes']] #29\n",
        "Wd = [['No'], ['Yes']] #30\n",
        "\n",
        "Score_list_2 = []\n",
        "\n",
        "for i in range(arr.shape[0]):\n",
        "  temp_list = []\n",
        "  score = 0\n",
        "\n",
        "  if arr[i][9] in Wf[0]:\n",
        "    temp_list.append(0)\n",
        "    score+=0\n",
        "  elif arr[i][9] in Wf[1]:\n",
        "    temp_list.append(2)\n",
        "    score+=2\n",
        "  elif arr[i][9] in Wf[2]:\n",
        "    temp_list.append(4)\n",
        "    score+=4\n",
        "  elif arr[i][9] in Wf[3]:\n",
        "    temp_list.append(6)\n",
        "    score+=6\n",
        "  else:\n",
        "    sys.exit(\"errors\")\n",
        "\n",
        "  if arr[i][35] in Ws[0]:\n",
        "    temp_list.append(0)\n",
        "    score+=0\n",
        "  elif arr[i][35] in Ws[1]:\n",
        "    temp_list.append(3)\n",
        "    score+=3\n",
        "  else:\n",
        "    sys.exit(\"errors\")\n",
        "    \n",
        "  if arr[i][26] in Wt[0]:\n",
        "    temp_list.append(0)\n",
        "    score+=0\n",
        "  elif arr[i][26] in Wt[1]:\n",
        "    temp_list.append(6)\n",
        "    score+=6\n",
        "  else:\n",
        "    sys.exit(\"errors\")\n",
        "\n",
        "  if arr[i][27] in Wa[0]:\n",
        "    temp_list.append(0)\n",
        "    score+=0\n",
        "  elif arr[i][27] in Wa[1]:\n",
        "    temp_list.append(6)\n",
        "    score+=6\n",
        "  else:\n",
        "    sys.exit(\"errors\")\n",
        "\n",
        "  if arr[i][28] in Wu[0]:\n",
        "    temp_list.append(0)\n",
        "    score+=0\n",
        "  elif arr[i][28] in Wu[1]:\n",
        "    temp_list.append(6)\n",
        "    score+=6\n",
        "  else:\n",
        "    sys.exit(\"errors\")\n",
        "\n",
        "  if arr[i][29] in Wn[0]:\n",
        "    temp_list.append(0)\n",
        "    score+=0\n",
        "  elif arr[i][29] in Wn[1]:\n",
        "    temp_list.append(6)\n",
        "    score+=6\n",
        "  else:\n",
        "    sys.exit(\"errors\")\n",
        "\n",
        "  if arr[i][30] in Wd[0]:\n",
        "    temp_list.append(0)\n",
        "    score+=0\n",
        "  elif arr[i][30] in Wd[1]:\n",
        "    temp_list.append(6)\n",
        "    score+=6\n",
        "  else:\n",
        "    sys.exit(\"errors\")\n",
        "\n",
        "  Score_list_2.append(temp_list)\n",
        "  SAS_Score_list[i]+=score"
      ],
      "metadata": {
        "id": "8AF9UAydz1Jx"
      },
      "execution_count": null,
      "outputs": []
    },
    {
      "cell_type": "code",
      "source": [
        "print(len(Score_list_2),Score_list_2,sep='\\n')\n"
      ],
      "metadata": {
        "id": "eVyO0fjcTRTw"
      },
      "execution_count": null,
      "outputs": []
    },
    {
      "cell_type": "markdown",
      "source": [
        "##**Overall SAS Score Result**"
      ],
      "metadata": {
        "id": "ZPpTTGlbT_bB"
      }
    },
    {
      "cell_type": "code",
      "source": [
        "SAS_Score_list_new = SAS_Score_list[:]\n",
        "for i in range(len(SAS_Score_list)):\n",
        "  SAS_Score_list_new[i]=round(SAS_Score_list[i]/0.45)\n",
        "\n",
        "print(len(SAS_Score_list_new),SAS_Score_list_new,sep='\\n')\n",
        "SAS_score_df = pd.DataFrame(SAS_Score_list_new)\n",
        "SAS_score_df = SAS_score_df[0].value_counts()\n",
        "SAS_score_df.sort_index(inplace=True)\n",
        "print(SAS_score_df)\n",
        "plt.plot(SAS_score_df.index, SAS_score_df)"
      ],
      "metadata": {
        "id": "dRtnG0G4T-lZ"
      },
      "execution_count": null,
      "outputs": []
    },
    {
      "cell_type": "code",
      "source": [
        "item = SAS_score_df.index.to_numpy()\n",
        "count = SAS_score_df.to_numpy()\n",
        "for i in range(len(SAS_score_df)):\n",
        "  print(item[i],count[i],sep='\\t\\t')\n",
        "\n",
        "\n",
        "fig, ax = plt.subplots(figsize =(10, 7))\n",
        "ax.set_xlabel = 'Smartphone Addiction Score'\n",
        "ax.set_ylabel = 'No. of responses'\n",
        "ax.hist(SAS_Score_list_new, bins=10)\n",
        "\n",
        " \n",
        "# Show plot\n",
        "plt.show()\n",
        "plt.savefig('SAS.png')"
      ],
      "metadata": {
        "id": "fAaEnI9Lbqgc"
      },
      "execution_count": null,
      "outputs": []
    },
    {
      "cell_type": "code",
      "source": [
        "print(\"\\n\\nNA: 0\")\n",
        "for i in range(len(SAS_Score_list)):\n",
        "  if SAS_Score_list[i] == 0:\n",
        "    print(Score_list[i], Score_list_2[i])\n",
        "    print(i, arr[i])\n",
        "    print('\\n')\n",
        "\n",
        "print(\"\\n\\nA: 45\")\n",
        "for i in range(len(SAS_Score_list)):\n",
        "  if SAS_Score_list[i] == 45:\n",
        "    print(Score_list[i], Score_list_2[i])\n",
        "    print(i, arr[i])\n",
        "    print('\\n')"
      ],
      "metadata": {
        "id": "YNjSXqDBWCMI"
      },
      "execution_count": null,
      "outputs": []
    },
    {
      "cell_type": "markdown",
      "source": [
        "#SAS Score"
      ],
      "metadata": {
        "id": "FHWAgq2PjSIS"
      }
    },
    {
      "cell_type": "code",
      "source": [
        "x=\"\"\"\n",
        "QUESTIONS:\n",
        "\n",
        "1.  #8  How much time (approx.) do you spend on your smartphone in a day?                                           }\n",
        "2.  #17 How much time on a daily average do you spend on studies / work on your smartphone?                         }---> 6\n",
        "3.  #18 How much time on a daily average do you spend on social media / gaming / entertainment on your smartphone?  }\n",
        "4.  #19 Have you ever tried to control/limit your smartphone usage? Were you successful?                            }\n",
        "\n",
        "5.  #9  How often do you find yourself checking your phone? (on average, how many times in 15 minutes)  ----------------> 6\n",
        "6.  #35 If you were given a choice to use a phone with only calling/SMS services, would you switch to that? ------------> 3\n",
        "7.  #26 Do you feel...? [you spend too much time on your smartphone]  --------------------------------------------------> 6\n",
        "    #27 Do you feel...? [find it difficult to stay away from your smartphone] ------------------------------------------> 6\n",
        "    #28 Do you feel...? [feel anxious or uncomfortable when you don't have your smartphone with you]  ------------------> 6\n",
        "    #29 Do you feel...? [find yourself checking your phone before going to sleep at night]  ----------------------------> 6\n",
        "    #30 Do you feel...? [find yourself checking your phone after waking up in the morning]  ----------------------------> 6\n",
        "__________________________________________________________________________________________________________________________________\n",
        "                                                                                                              Max Score = 45\n",
        "\n",
        "                                                                                                              \n",
        "Wu = [['less than 2 hours'], ['2 - 4 hours'], ['4 - 6 hours', '6 - 8 hours'], ['8 - 10 hours', 'more than 10 hours']] #8\n",
        "We = [[1], [2], [3], [4, 5, 6, 7, 8]] #18\n",
        "Ww = [[5, 6, 7, 8], [3, 4], [2], [1]] #17\n",
        "Lim = ['Yes, successful', 'Yes, partially successful', 'Yes, not successful', 'No'] #19\n",
        "\n",
        "Wf = [['less than once', 'once'], ['2 - 3 times'], ['4 - 5 times'], ['6 - 7 times', 'more than 7 times']] #9\n",
        "Ws = [['Yes, I am comfortable to switching'],['No, I am not comfortable to switching']] #35\n",
        "Wt = [['No'], ['Yes']] #26\n",
        "Wa = [['No'], ['Yes']] #27\n",
        "Wu = [['No'], ['Yes']] #28\n",
        "Wn = [['No'], ['Yes']] #29\n",
        "Wd = [['No'], ['Yes']] #30\n",
        "\"\"\""
      ],
      "metadata": {
        "id": "bwboC9H3YEJw"
      },
      "execution_count": null,
      "outputs": []
    },
    {
      "cell_type": "code",
      "source": [
        "print(Score_list)\n",
        "print(Score_list_2)\n",
        "SAS_fin = []\n",
        "\n",
        "for i in range(len(df)):\n",
        "  SAS_fin.append([Score_list[i]])\n",
        "  SAS_fin[i].extend(Score_list_2[i])\n",
        "print(SAS_fin)\n",
        "for i in range(len(SAS_fin)):\n",
        "  for j in range(len(SAS_fin[0])):\n",
        "    SAS_fin[i][j]=int(SAS_fin[i][j])\n",
        "\n",
        "SAS_df = pd.DataFrame(SAS_fin)\n",
        "print(SAS_df)\n",
        "\n",
        "pg.cronbach_alpha(data=SAS_df)"
      ],
      "metadata": {
        "id": "9kvx04LTKJfL"
      },
      "execution_count": null,
      "outputs": []
    },
    {
      "cell_type": "code",
      "source": [
        "print('MEAN: ',sum(SAS_Score_list_new)/len(SAS_Score_list_new))\n",
        "print('MEDIAN: ',SAS_Score_list_new[round(len(SAS_Score_list_new)/2)])\n",
        "print('MODE: ',mode(SAS_Score_list_new))"
      ],
      "metadata": {
        "id": "O0G-X1oRnJb_"
      },
      "execution_count": null,
      "outputs": []
    },
    {
      "cell_type": "code",
      "source": [
        "for i in range(len(SAS_Score_list_new)):\n",
        "  Person_score.append([SAS_Score_list_new[i]])\n",
        "\n",
        "print(Person_score)"
      ],
      "metadata": {
        "id": "5zaeHUcMigl-"
      },
      "execution_count": null,
      "outputs": []
    },
    {
      "cell_type": "markdown",
      "source": [
        "# **Mental Unwellness Score**"
      ],
      "metadata": {
        "id": "BobYdTnDz1lt"
      }
    },
    {
      "cell_type": "code",
      "source": [
        "# count of unique values \n",
        "print(df['Rate your overall positive experience on using a smartphone? \\n(0 to 5) [Satisfaction]'].value_counts()) #20\n",
        "print(df['Rate your overall positive experience on using a smartphone? \\n(0 to 5) [Happiness]'].value_counts()) #21\n",
        "print(df['Rate your overall positive experience on using a smartphone? \\n(0 to 5) [Gain of Knowledge]'].value_counts()) #22\n",
        "print(df['How much does your smartphone usage affect your mental health in everyday life? \\n(-2 to 2) [Emotional state]'].value_counts()) #31\n",
        "print(df['How much does your smartphone usage affect your mental health in everyday life? \\n(-2 to 2) [Decision making]'].value_counts()) #32\n",
        "print(df['How much does your smartphone usage affect your mental health in everyday life? \\n(-2 to 2) [Social relationships]'].value_counts()) #33\n",
        "print(df['Rate your overall negative experience on using a smartphone?  \\n(0 to 5) [Dissatisfaction]'].value_counts()) #23\n",
        "print(df['Rate your overall negative experience on using a smartphone?  \\n(0 to 5) [Regret]'].value_counts()) #24\n",
        "print(df['Rate your overall negative experience on using a smartphone?  \\n(0 to 5) [Waste of time]'].value_counts()) #25\n",
        "print(df['Do you feel smartphone is good or bad for your mental health?'].value_counts()) #36"
      ],
      "metadata": {
        "id": "tcmNs0BRl-Av"
      },
      "execution_count": null,
      "outputs": []
    },
    {
      "cell_type": "code",
      "source": [
        "Sat = {'0 (None)':5, '1 (Very little)':4, '2 (Little)':3, '3 (Some)':2, '4 (A lot)':1, '5 (Very much)':0} #20\n",
        "Hap = {'0 (None)':5, '1 (Very little)':4, '2 (Little)':3, '3 (Some)':2, '4 (A lot)':1, '5 (Very much)':0} #21\n",
        "Kno = {'0 (None)':5, '1 (Very little)':4, '2 (Little)':3, '3 (Some)':2, '4 (A lot)':1, '5 (Very much)':0} #22\n",
        "Emo = {'-2 (very negatively)':4, '-1 (slightly negatively)':3, '0 (no effect)':2, '1 (slightly positively)':1, '2 (very positively)':0} #31\n",
        "Deci = {'-2 (very negatively)':4, '-1 (slightly negatively)':3, '0 (no effect)':2, '1 (slightly positively)':1, '2 (very positively)':0} #32\n",
        "Soci = {'-2 (very negatively)':4, '-1 (slightly negatively)':3, '0 (no effect)':2, '1 (slightly positively)':1, '2 (very positively)':0} #33\n",
        "Dissat = {'0 (None)':0, '1 (Very little)':1, '2 (Little)':2, '3 (Some)':3, '4 (A lot)':4, '5 (Very much)':5} #23\n",
        "Reg = {'0 (None)':0, '1 (Very little)':1, '2 (Little)':2, '3 (Some)':3, '4 (A lot)':4, '5 (Very much)':5} #24\n",
        "Wast = {'0 (None)':0, '1 (Very little)':1, '2 (Little)':2, '3 (Some)':3, '4 (A lot)':4, '5 (Very much)':5} #25\n",
        "GoodBad = {'Bad':5, 'Good':0} #36\n",
        "\n",
        "Mental_Score_list = []\n",
        "\n",
        "for i in range(arr.shape[0]):\n",
        "  score = Sat[arr[i][20]] + Hap[arr[i][21]] + Kno[arr[i][22]] + 2*(Emo[arr[i][31]] + Deci[arr[i][32]] + Soci[arr[i][33]]) + Dissat[arr[i][23]] + Reg[arr[i][24]] + Wast[arr[i][25]] + GoodBad[arr[i][36]]\n",
        "  Mental_Score_list.append(round(score/0.59))\n",
        "  # if score == 0:\n",
        "  #   print(arr[i],'\\n',arr[i][20],arr[i][21],arr[i][22],arr[i][31],arr[i][32],arr[i][33],arr[i][23],arr[i][24],arr[i][25],arr[i][36])"
      ],
      "metadata": {
        "id": "WzrbjVEFl9-5"
      },
      "execution_count": null,
      "outputs": []
    },
    {
      "cell_type": "code",
      "source": [
        "print(len(Mental_Score_list))\n",
        "mental_score_df = pd.DataFrame(Mental_Score_list)\n",
        "mental_score_df = mental_score_df[0].value_counts()\n",
        "mental_score_df.sort_index(inplace=True)\n",
        "print(mental_score_df)\n",
        "plt.plot(mental_score_df.index, mental_score_df)"
      ],
      "metadata": {
        "id": "xwa3b1zAtB0w"
      },
      "execution_count": null,
      "outputs": []
    },
    {
      "cell_type": "code",
      "source": [
        "item = mental_score_df.index.to_numpy()\n",
        "count = mental_score_df.to_numpy()\n",
        "for i in range(len(mental_score_df)):\n",
        "  print(item[i],count[i],sep='\\t\\t')\n",
        "\n",
        "\n",
        "fig, ax = plt.subplots(figsize =(10, 7))\n",
        "ax.hist(Mental_Score_list, bins=10)\n",
        " \n",
        "# Show plot\n",
        "plt.show()"
      ],
      "metadata": {
        "id": "QtrdhZLMGRKD"
      },
      "execution_count": null,
      "outputs": []
    },
    {
      "cell_type": "markdown",
      "source": [
        "#Unwellness Score"
      ],
      "metadata": {
        "id": "HFOyQi7ljk_a"
      }
    },
    {
      "cell_type": "code",
      "source": [
        "x=\"\"\"\n",
        "QUESTIONS:\n",
        "\n",
        "1.  #20 Rate your overall positive experience on using a smartphone? \\n(0 to 5) [Satisfaction]  --------------------------------> 5\n",
        "2.  #21 Rate your overall positive experience on using a smartphone? \\n(0 to 5) [Happiness] ------------------------------------> 5\n",
        "3.  #22 Rate your overall positive experience on using a smartphone? \\n(0 to 5) [Gain of Knowledge] ----------------------------> 5\n",
        "4.  #31 How much does your smartphone usage affect your mental health in everyday life? \\n(-2 to 2) [Emotional state] ----------> 4 x 2\n",
        "5.  #32 How much does your smartphone usage affect your mental health in everyday life? \\n(-2 to 2) [Decision making] ----------> 4 x 2\n",
        "6.  #33 How much does your smartphone usage affect your mental health in everyday life? \\n(-2 to 2) [Social relationships] -----> 4 x 2\n",
        "7.  #23 Rate your overall negative experience on using a smartphone?  \\n(0 to 5) [Dissatisfaction] -----------------------------> 5\n",
        "8.  #24 Rate your overall negative experience on using a smartphone?  \\n(0 to 5) [Regret]  -------------------------------------> 5\n",
        "9.  #25 Rate your overall negative experience on using a smartphone?  \\n(0 to 5) [Waste of time]  ------------------------------> 5\n",
        "10. #36 Do you feel smartphone is good or bad for your mental health?  ---------------------------------------------------------> 5\n",
        "______________________________________________________________________________________________________________________________________\n",
        "                                                                                                                      Max Score = 59\n",
        "\n",
        "Sat = {'0 (None)':5, '1 (Very little)':4, '2 (Little)':3, '3 (Some)':2, '4 (A lot)':1, '5 (Very much)':0} #20\n",
        "Hap = {'0 (None)':5, '1 (Very little)':4, '2 (Little)':3, '3 (Some)':2, '4 (A lot)':1, '5 (Very much)':0} #21\n",
        "Kno = {'0 (None)':5, '1 (Very little)':4, '2 (Little)':3, '3 (Some)':2, '4 (A lot)':1, '5 (Very much)':0} #22\n",
        "Emo = {'-2 (very negatively)':4, '-1 (slightly negatively)':3, '0 (no effect)':2, '1 (slightly positively)':1, '2 (very positively)':0} #31\n",
        "Deci = {'-2 (very negatively)':4, '-1 (slightly negatively)':3, '0 (no effect)':2, '1 (slightly positively)':1, '2 (very positively)':0} #32\n",
        "Soci = {'-2 (very negatively)':4, '-1 (slightly negatively)':3, '0 (no effect)':2, '1 (slightly positively)':1, '2 (very positively)':0} #33\n",
        "Dissat = {'0 (None)':0, '1 (Very little)':1, '2 (Little)':2, '3 (Some)':3, '4 (A lot)':4, '5 (Very much)':5} #23\n",
        "Reg = {'0 (None)':0, '1 (Very little)':1, '2 (Little)':2, '3 (Some)':3, '4 (A lot)':4, '5 (Very much)':5} #24\n",
        "Wast = {'0 (None)':0, '1 (Very little)':1, '2 (Little)':2, '3 (Some)':3, '4 (A lot)':4, '5 (Very much)':5} #25\n",
        "GoodBad = {'Bad':5, 'Good':0} #36\n",
        "\"\"\""
      ],
      "metadata": {
        "id": "BqA-zfBiqGRE"
      },
      "execution_count": null,
      "outputs": []
    },
    {
      "cell_type": "code",
      "source": [
        "Sat = {'0 (None)':5, '1 (Very little)':4, '2 (Little)':3, '3 (Some)':2, '4 (A lot)':1, '5 (Very much)':0} #20\n",
        "Hap = {'0 (None)':5, '1 (Very little)':4, '2 (Little)':3, '3 (Some)':2, '4 (A lot)':1, '5 (Very much)':0} #21\n",
        "Kno = {'0 (None)':5, '1 (Very little)':4, '2 (Little)':3, '3 (Some)':2, '4 (A lot)':1, '5 (Very much)':0} #22\n",
        "Emo = {'-2 (very negatively)':4, '-1 (slightly negatively)':3, '0 (no effect)':2, '1 (slightly positively)':1, '2 (very positively)':0} #31\n",
        "Deci = {'-2 (very negatively)':4, '-1 (slightly negatively)':3, '0 (no effect)':2, '1 (slightly positively)':1, '2 (very positively)':0} #32\n",
        "Soci = {'-2 (very negatively)':4, '-1 (slightly negatively)':3, '0 (no effect)':2, '1 (slightly positively)':1, '2 (very positively)':0} #33\n",
        "Dissat = {'0 (None)':0, '1 (Very little)':1, '2 (Little)':2, '3 (Some)':3, '4 (A lot)':4, '5 (Very much)':5} #23\n",
        "Reg = {'0 (None)':0, '1 (Very little)':1, '2 (Little)':2, '3 (Some)':3, '4 (A lot)':4, '5 (Very much)':5} #24\n",
        "Wast = {'0 (None)':0, '1 (Very little)':1, '2 (Little)':2, '3 (Some)':3, '4 (A lot)':4, '5 (Very much)':5} #25\n",
        "GoodBad = {'Bad':5, 'Good':0} #36\n",
        "\n",
        "\n",
        "MH_fin = []\n",
        "\n",
        "for i in range(len(df)):\n",
        "  MH_fin.append([Sat[arr[i][20]],Hap[arr[i][21]],Kno[arr[i][22]],Emo[arr[i][31]],Deci[arr[i][32]],Soci[arr[i][33]],Dissat[arr[i][23]],Reg[arr[i][24]],Wast[arr[i][25]],GoodBad[arr[i][36]]])\n",
        "\n",
        "print(MH_fin)\n",
        "for i in range(len(MH_fin)):\n",
        "  for j in range(len(MH_fin[0])):\n",
        "    MH_fin[i][j]=int(MH_fin[i][j])\n",
        "\n",
        "MH_df = pd.DataFrame(MH_fin)\n",
        "print(MH_df)\n",
        "\n",
        "pg.cronbach_alpha(data=MH_df)"
      ],
      "metadata": {
        "id": "SK1gglFXR_P-"
      },
      "execution_count": null,
      "outputs": []
    },
    {
      "cell_type": "code",
      "source": [
        "print('MEAN: ',sum(Mental_Score_list)/len(Mental_Score_list))\n",
        "print('MEDIAN: ',Mental_Score_list[round(len(Mental_Score_list)/2)])\n",
        "print('MODE: ',mode(Mental_Score_list))"
      ],
      "metadata": {
        "id": "x9imjQX3tmly"
      },
      "execution_count": null,
      "outputs": []
    },
    {
      "cell_type": "markdown",
      "source": [],
      "metadata": {
        "id": "wKwRqnGZjoTc"
      }
    },
    {
      "cell_type": "code",
      "source": [
        "for i in range(len(Mental_Score_list)):\n",
        "  Person_score[i].append(Mental_Score_list[i])\n",
        "\n",
        "print(Person_score)"
      ],
      "metadata": {
        "id": "7B3kao6-jqkw"
      },
      "execution_count": null,
      "outputs": []
    },
    {
      "cell_type": "markdown",
      "source": [
        "# **Academic Performance Score (under smartphone influence)**"
      ],
      "metadata": {
        "id": "VLGvV1Hp8vip"
      }
    },
    {
      "cell_type": "code",
      "source": [
        "# count of unique values \n",
        "print(df['Rate your academic / work performance \\n(1 to 10)'].value_counts()) #37\n",
        "print(df['Do you tend to complete all your work properly in time?'].value_counts()) #38\n",
        "print(df['How much do you think is your academic / work performance related to your smartphone usage?'].value_counts()) #39\n",
        "print(df['Do you feel smartphone helps you in your academics / work?'].value_counts()) #40\n",
        "print(df['Rate the helpfulness of smartphone usage in your academic / work performance?'].value_counts()) #41\n",
        "print(df['Do you feel smartphone distracts you from your academics / work?'].value_counts()) #42\n",
        "print(df['Rate the distracting/negative impact of smartphone usage in your academic / work performance?'].value_counts()) #43\n",
        "print(df['Do you feel your performance will improve without smartphones? (if Other, please explain)'].value_counts()) #44"
      ],
      "metadata": {
        "id": "ZL2s-1Wh8V-w"
      },
      "execution_count": null,
      "outputs": []
    },
    {
      "cell_type": "code",
      "source": [
        "Perf = {1:0, 2:1, 3:2, 4:3, 5:4, 6:5, 7:6, 8:7, 9:8, 10:9} #37\n",
        "Comp = {'Never':0, 'Sometimes':3, 'Most of the times':6, 'Always':9} #38\n",
        "Rel = {1:9, 2:8, 3:7, 4:6, 5:5, 6:4, 7:3, 8:2, 9:1, 10:0} #39\n",
        "HelpYN = {'Yes':9, 'No':0} #40\n",
        "HelpR = {1:0, 2:1, 3:2, 4:3, 5:4, 6:5, 7:6, 8:7, 9:8, 10:9} #41\n",
        "DistYN = {'Yes':0, 'No':9} #42\n",
        "DistR = {1:9, 2:8, 3:7, 4:6, 5:5, 6:4, 7:3, 8:2, 9:1, 10:0} #43\n",
        "Impr = {'Yes':0, 'Other':4, 'No':9} #44\n",
        "\n",
        "Acad_Score_list_1 = []\n",
        "Acad_Score_list_2 = []\n",
        "\n",
        "for i in range(arr.shape[0]):\n",
        "  if arr[i][44] not in ['Yes','No']:\n",
        "    temp = 'Other'\n",
        "  else:\n",
        "    temp = arr[i][44]\n",
        "\n",
        "  score = (Perf[arr[i][37]] + Comp[arr[i][38]]) * (Rel[arr[i][39]] + HelpYN[arr[i][40]] + HelpR[arr[i][41]] + DistYN[arr[i][42]] + DistR[arr[i][43]] + Impr[temp])\n",
        "  Acad_Score_list_1.append(round(score/9.72))\n",
        "\n",
        "  score = Perf[arr[i][37]] + Comp[arr[i][38]] + (Rel[arr[i][39]] * ((HelpYN[arr[i][40]] * HelpR[arr[i][41]]) + (DistYN[arr[i][42]] * DistR[arr[i][43]]))) + Impr[temp]\n",
        "  Acad_Score_list_2.append(score)\n",
        "\n",
        "  # if score == 0:\n",
        "  #   print(arr[i],'\\n',arr[i][20],arr[i][21],arr[i][22],arr[i][31],arr[i][32],arr[i][33],arr[i][23],arr[i][24],arr[i][25],arr[i][36])"
      ],
      "metadata": {
        "id": "7cNjs-nOwIuF"
      },
      "execution_count": null,
      "outputs": []
    },
    {
      "cell_type": "code",
      "source": [
        "print(len(Acad_Score_list_1))\n",
        "acad_score_df_1 = pd.DataFrame(Acad_Score_list_1)\n",
        "acad_score_df_1 = acad_score_df_1[0].value_counts()\n",
        "acad_score_df_1.sort_index(inplace=True)\n",
        "print(acad_score_df_1)\n",
        "plt.plot(acad_score_df_1.index, acad_score_df_1)"
      ],
      "metadata": {
        "id": "tVtvMRjKwIiY"
      },
      "execution_count": null,
      "outputs": []
    },
    {
      "cell_type": "code",
      "source": [
        "item = acad_score_df_1.index.to_numpy()\n",
        "count = acad_score_df_1.to_numpy()\n",
        "for i in range(len(acad_score_df_1)):\n",
        "  print(item[i],count[i],sep='\\t\\t')\n",
        "\n",
        "\n",
        "fig, ax = plt.subplots(figsize =(10, 7))\n",
        "ax.hist(Acad_Score_list_1, bins=10)\n",
        " \n",
        "# Show plot\n",
        "plt.show()"
      ],
      "metadata": {
        "id": "iCFbfiu_fzQ6"
      },
      "execution_count": null,
      "outputs": []
    },
    {
      "cell_type": "markdown",
      "source": [
        "##Extra"
      ],
      "metadata": {
        "id": "bK_iCvaTf0nw"
      }
    },
    {
      "cell_type": "code",
      "source": [
        "print(len(Acad_Score_list_2))\n",
        "acad_score_df_2 = pd.DataFrame(Acad_Score_list_2)\n",
        "acad_score_df_2 = acad_score_df_2[0].value_counts()\n",
        "acad_score_df_2.sort_index(inplace=True)\n",
        "print(acad_score_df_2)\n",
        "plt.plot(acad_score_df_2.index, acad_score_df_2)"
      ],
      "metadata": {
        "id": "W2AnDhRbwIT9"
      },
      "execution_count": null,
      "outputs": []
    },
    {
      "cell_type": "code",
      "source": [
        "item = acad_score_df_2.index.to_numpy()\n",
        "count = acad_score_df_2.to_numpy()\n",
        "for i in range(len(acad_score_df_2)):\n",
        "  print(item[i],count[i],sep='\\t\\t')\n",
        "\n",
        "\n",
        "fig, ax = plt.subplots(figsize =(10, 7))\n",
        "ax.hist(Acad_Score_list_2, bins=10)\n",
        " \n",
        "# Show plot\n",
        "plt.show()"
      ],
      "metadata": {
        "id": "Tqn9rnWl8V6T"
      },
      "execution_count": null,
      "outputs": []
    },
    {
      "cell_type": "code",
      "source": [],
      "metadata": {
        "id": "dsrFNbl68V4h"
      },
      "execution_count": null,
      "outputs": []
    },
    {
      "cell_type": "markdown",
      "source": [
        "#Performance Score"
      ],
      "metadata": {
        "id": "mWu4meraj1m6"
      }
    },
    {
      "cell_type": "code",
      "source": [
        "x=\"\"\"\n",
        "QUESTIONS:\n",
        "\n",
        "1.  #37 Rate your academic / work performance \\n(1 to 10)  -----------------------------------------------------> 10\n",
        "2.  #38 Do you tend to complete all your work properly in time? ------------------------------------------------> 10\n",
        "3.  #39 How much do you think is your academic / work performance related to your smartphone usage? ------------> 10\n",
        "4.  #40 Do you feel smartphone helps you in your academics / work? ---------------------------------------------> 10\n",
        "5.  #41 Rate the helpfulness of smartphone usage in your academic / work performance? --------------------------> 10\n",
        "6.  #42 Do you feel smartphone distracts you from your academics / work? ---------------------------------------> 10\n",
        "7.  #43 Rate the distracting/negative impact of smartphone usage in your academic / work performance? ----------> 10\n",
        "8.  #44 Do you feel your performance will improve without smartphones? (if Other, please explain)  -------------> 10\n",
        "______________________________________________________________________________________________________________________________________\n",
        "                                                                                                      Max Score = 1200\n",
        "\n",
        "Perf = {1:0, 2:1, 3:2, 4:3, 5:4, 6:5, 7:6, 8:7, 9:8, 10:9} #37\n",
        "Comp = {'Never':0, 'Sometimes':3, 'Most of the times':6, 'Always':9} #38\n",
        "Rel = {1:9, 2:8, 3:7, 4:6, 5:5, 6:4, 7:3, 8:2, 9:1, 10:0} #39\n",
        "HelpYN = {'Yes':9, 'No':0} #40\n",
        "HelpR = {1:0, 2:1, 3:2, 4:3, 5:4, 6:5, 7:6, 8:7, 9:8, 10:9} #41\n",
        "DistYN = {'Yes':0, 'No':9} #42\n",
        "DistR = {1:9, 2:8, 3:7, 4:6, 5:5, 6:4, 7:3, 8:2, 9:1, 10:0} #43\n",
        "Impr = {'Yes':0, 'Other':4, 'No':9} #44\n",
        "\"\"\""
      ],
      "metadata": {
        "id": "AOBkAdmB8WA0"
      },
      "execution_count": null,
      "outputs": []
    },
    {
      "cell_type": "code",
      "source": [
        "Perf = {1:0, 2:1, 3:2, 4:3, 5:4, 6:5, 7:6, 8:7, 9:8, 10:9} #37\n",
        "Comp = {'Never':0, 'Sometimes':3, 'Most of the times':6, 'Always':9} #38\n",
        "Rel = {1:9, 2:8, 3:7, 4:6, 5:5, 6:4, 7:3, 8:2, 9:1, 10:0} #39\n",
        "HelpYN = {'Yes':9, 'No':0} #40\n",
        "HelpR = {1:0, 2:1, 3:2, 4:3, 5:4, 6:5, 7:6, 8:7, 9:8, 10:9} #41\n",
        "DistYN = {'Yes':0, 'No':9} #42\n",
        "DistR = {1:9, 2:8, 3:7, 4:6, 5:5, 6:4, 7:3, 8:2, 9:1, 10:0} #43\n",
        "Impr = {'Yes':0, 'Other':4, 'No':9} #44\n",
        "\n",
        "\n",
        "AP_fin = []\n",
        "\n",
        "for i in range(arr.shape[0]):\n",
        "  if arr[i][44] not in ['Yes','No']:\n",
        "    temp = 'Other'\n",
        "  else:\n",
        "    temp = arr[i][44]\n",
        "\n",
        "  AP_fin.append([Perf[arr[i][37]], Comp[arr[i][38]], Rel[arr[i][39]], HelpYN[arr[i][40]], HelpR[arr[i][41]], DistYN[arr[i][42]], DistR[arr[i][43]], Impr[temp]]) \n",
        "\n",
        "print(AP_fin)\n",
        "for i in range(len(AP_fin)):\n",
        "  for j in range(len(AP_fin[0])):\n",
        "    AP_fin[i][j]=int(AP_fin[i][j])\n",
        "\n",
        "AP_df = pd.DataFrame(AP_fin)\n",
        "print(AP_df)\n",
        "\n",
        "pg.cronbach_alpha(data=AP_df)"
      ],
      "metadata": {
        "id": "WT9qq0pKPaL_"
      },
      "execution_count": null,
      "outputs": []
    },
    {
      "cell_type": "code",
      "source": [
        "print('MEAN: ',sum(Acad_Score_list_1)/len(Acad_Score_list_1))\n",
        "print('MEDIAN: ',Acad_Score_list_1[round(len(Acad_Score_list_1)/2)])\n",
        "print('MODE: ',mode(Acad_Score_list_1))"
      ],
      "metadata": {
        "id": "MrpzP9jmgiAO"
      },
      "execution_count": null,
      "outputs": []
    },
    {
      "cell_type": "code",
      "source": [
        "for i in range(len(Acad_Score_list_1)):\n",
        "  Person_score[i].append(Acad_Score_list_1[i])\n",
        "\n",
        "print(Person_score)"
      ],
      "metadata": {
        "id": "6hHO4S4BkC9x"
      },
      "execution_count": null,
      "outputs": []
    },
    {
      "cell_type": "markdown",
      "source": [
        "#**FINAL CORRELATION**"
      ],
      "metadata": {
        "id": "ullx6Ze0kq-X"
      }
    },
    {
      "cell_type": "code",
      "source": [
        "print(len(Person_score), Person_score)\n",
        "\n",
        "A_MH_list = []\n",
        "NA_MH_list = []\n",
        "A_AP_list = []\n",
        "NA_AP_list = []\n",
        "\n",
        "for i in range(len(Person_score)):\n",
        "  if Person_score[i][0]<50:\n",
        "    NA_MH_list.append(Person_score[i][1])\n",
        "    NA_AP_list.append(Person_score[i][2])\n",
        "  else:\n",
        "    A_MH_list.append(Person_score[i][1])\n",
        "    A_AP_list.append(Person_score[i][2])\n",
        "\n",
        "print(f'NA: \\navg. MH: {sum(NA_MH_list)/len(NA_MH_list)} \\navg. AP: {sum(NA_AP_list)/len(NA_AP_list)} \\n\\nA: \\navg. MH: {sum(A_MH_list)/len(A_MH_list)} \\navg. AP: {sum(A_AP_list)/len(A_AP_list)} ')"
      ],
      "metadata": {
        "id": "x8r9iX7eTSZZ"
      },
      "execution_count": null,
      "outputs": []
    },
    {
      "cell_type": "code",
      "source": [
        "### ON THE BASIS OF MIDDLE OF SCALE\n",
        "atype = 'MIDSCALE'\n",
        "SA_list = []\n",
        "MH_list = []\n",
        "AP_list = []\n",
        "\n",
        "for i in range(len(Person_score)):\n",
        "\n",
        "  if Person_score[i][0]//50==0:\n",
        "    SA_list.append(0) # Not Addicted\n",
        "  else:\n",
        "    SA_list.append(1) # Addicted\n",
        "\n",
        "  if Person_score[i][1]//50==0:\n",
        "    MH_list.append(0) # Mentally Well\n",
        "  else:\n",
        "    MH_list.append(1) # Mentally Unwell\n",
        "\n",
        "  if Person_score[i][2]//50==0:\n",
        "    AP_list.append(1) # Poor Performance\n",
        "  else:\n",
        "    AP_list.append(0) # Good Performance\n",
        "\n",
        "print(SA_list,MH_list,AP_list,sep='\\n')\n",
        "print(len(SA_list),len(MH_list),len(AP_list),sep='\\n')"
      ],
      "metadata": {
        "id": "ERv3noVxmNcl"
      },
      "execution_count": null,
      "outputs": []
    },
    {
      "cell_type": "code",
      "source": [
        "# b/w SA and MH\n",
        "SAMH = {'NAGood':0, 'NABad':0, 'AGood':0, 'ABad':0}\n",
        "\n",
        "# b/w SA and AP\n",
        "SAAP = {'NAGood':0, 'NABad':0, 'AGood':0, 'ABad':0}\n",
        "\n",
        "for i in range(len(Person_score)):\n",
        "  if SA_list[i]==0 and MH_list[i]==0:\n",
        "    SAMH['NAGood']+=1\n",
        "  elif SA_list[i]==0 and MH_list[i]==1:\n",
        "    SAMH['NABad']+=1\n",
        "  elif SA_list[i]==1 and MH_list[i]==0:\n",
        "    SAMH['AGood']+=1\n",
        "  elif SA_list[i]==1 and MH_list[i]==1:\n",
        "    SAMH['ABad']+=1\n",
        "  else:\n",
        "    pass\n",
        "\n",
        "for i in range(len(Person_score)):\n",
        "  if SA_list[i]==0 and AP_list[i]==0:\n",
        "    SAAP['NAGood']+=1\n",
        "  elif SA_list[i]==0 and AP_list[i]==1:\n",
        "    SAAP['NABad']+=1\n",
        "  elif SA_list[i]==1 and AP_list[i]==0:\n",
        "    SAAP['AGood']+=1\n",
        "  elif SA_list[i]==1 and AP_list[i]==1:\n",
        "    SAAP['ABad']+=1\n",
        "  else:\n",
        "    pass\n",
        "\n",
        "print(atype,SAMH,SAAP,sep='\\n')"
      ],
      "metadata": {
        "id": "ZuYroLQwtWet"
      },
      "execution_count": null,
      "outputs": []
    },
    {
      "cell_type": "code",
      "source": [
        "### CORRELATION\n",
        "from scipy.stats import pearsonr   \n",
        "print(atype)  \n",
        "print('Corrrelation b/w SA and MH:{} \\t\\tp value: {}'.format(pearsonr(SA_list,MH_list)[0],pearsonr(SA_list,MH_list)[1]))\n",
        "print('Corrrelation b/w SA and AP:{} \\t\\tp value: {}'.format(pearsonr(SA_list,AP_list)[0],pearsonr(SA_list,AP_list)[1]))"
      ],
      "metadata": {
        "id": "HjIaqpq6xcMv"
      },
      "execution_count": null,
      "outputs": []
    },
    {
      "cell_type": "code",
      "source": [
        "### ON THE BASIS OF INDIVIDUAL MEAN\n",
        "atype = 'MEAN'\n",
        "SA_list = []\n",
        "MH_list = []\n",
        "AP_list = []\n",
        "\n",
        "for i in range(len(Person_score)):\n",
        "\n",
        "  if Person_score[i][0]<=(sum(SAS_Score_list_new)/len(SAS_Score_list_new)):\n",
        "    SA_list.append(0) # Not Addicted\n",
        "  else:\n",
        "    SA_list.append(1) # Addicted\n",
        "\n",
        "  if Person_score[i][1]<=(sum(Mental_Score_list)/len(Mental_Score_list)):\n",
        "    MH_list.append(0) # Mentally Well\n",
        "  else:\n",
        "    MH_list.append(1) # Mentally Unwell\n",
        "\n",
        "  if Person_score[i][2]<=(sum(Acad_Score_list_1)/len(Acad_Score_list_1)):\n",
        "    AP_list.append(1) # Poor Performance\n",
        "  else:\n",
        "    AP_list.append(0) # Good Performance\n",
        "\n",
        "\n",
        "print(SA_list,MH_list,AP_list,sep='\\n')"
      ],
      "metadata": {
        "id": "taDRr0JEqbBL"
      },
      "execution_count": null,
      "outputs": []
    },
    {
      "cell_type": "code",
      "source": [
        "# b/w SA and MH\n",
        "SAMH = {'NAGood':0, 'NABad':0, 'AGood':0, 'ABad':0}\n",
        "\n",
        "# b/w SA and AP\n",
        "SAAP = {'NAGood':0, 'NABad':0, 'AGood':0, 'ABad':0}\n",
        "\n",
        "for i in range(len(Person_score)):\n",
        "  if SA_list[i]==0 and MH_list[i]==0:\n",
        "    SAMH['NAGood']+=1\n",
        "  elif SA_list[i]==0 and MH_list[i]==1:\n",
        "    SAMH['NABad']+=1\n",
        "  elif SA_list[i]==1 and MH_list[i]==0:\n",
        "    SAMH['AGood']+=1\n",
        "  elif SA_list[i]==1 and MH_list[i]==1:\n",
        "    SAMH['ABad']+=1\n",
        "  else:\n",
        "    pass\n",
        "\n",
        "for i in range(len(Person_score)):\n",
        "  if SA_list[i]==0 and AP_list[i]==0:\n",
        "    SAAP['NAGood']+=1\n",
        "  elif SA_list[i]==0 and AP_list[i]==1:\n",
        "    SAAP['NABad']+=1\n",
        "  elif SA_list[i]==1 and AP_list[i]==0:\n",
        "    SAAP['AGood']+=1\n",
        "  elif SA_list[i]==1 and AP_list[i]==1:\n",
        "    SAAP['ABad']+=1\n",
        "  else:\n",
        "    pass\n",
        "\n",
        "print(atype,SAMH,SAAP,sep='\\n')"
      ],
      "metadata": {
        "id": "MAZ3CwmNkobY"
      },
      "execution_count": null,
      "outputs": []
    },
    {
      "cell_type": "code",
      "source": [
        "### CORRELATION\n",
        "from scipy.stats import pearsonr   \n",
        "print(atype)  \n",
        "print('Corrrelation b/w SA and MH:{} \\t\\tp value: {}'.format(pearsonr(SA_list,MH_list)[0],pearsonr(SA_list,MH_list)[1]))\n",
        "print('Corrrelation b/w SA and AP:{} \\t\\tp value: {}'.format(pearsonr(SA_list,AP_list)[0],pearsonr(SA_list,AP_list)[1]))"
      ],
      "metadata": {
        "id": "EZEPLXv5uRRH"
      },
      "execution_count": null,
      "outputs": []
    },
    {
      "cell_type": "code",
      "source": [
        "### ON THE BASIS OF SA MEAN\n",
        "atype = 'SA MEAN'\n",
        "SA_list = []\n",
        "MH_list = []\n",
        "AP_list = []\n",
        "SA_mean = sum(SAS_Score_list_new)/len(SAS_Score_list_new)\n",
        "\n",
        "for i in range(len(Person_score)):\n",
        "\n",
        "  if Person_score[i][0]<=(SA_mean):\n",
        "    SA_list.append(0) # Not Addicted\n",
        "  else:\n",
        "    SA_list.append(1) # Addicted\n",
        "\n",
        "  if Person_score[i][1]<=(SA_mean):\n",
        "    MH_list.append(0) # Mentally Well\n",
        "  else:\n",
        "    MH_list.append(1) # Mentally Unwell\n",
        "\n",
        "  if Person_score[i][2]<=(SA_mean):\n",
        "    AP_list.append(1) # Poor Performance\n",
        "  else:\n",
        "    AP_list.append(0) # Good Performance\n",
        "\n",
        "\n",
        "print(SA_list,MH_list,AP_list,sep='\\n')"
      ],
      "metadata": {
        "id": "JW5EW0W1V5zq"
      },
      "execution_count": null,
      "outputs": []
    },
    {
      "cell_type": "code",
      "source": [
        "# b/w SA and MH\n",
        "SAMH = {'NAGood':0, 'NABad':0, 'AGood':0, 'ABad':0}\n",
        "\n",
        "# b/w SA and AP\n",
        "SAAP = {'NAGood':0, 'NABad':0, 'AGood':0, 'ABad':0}\n",
        "\n",
        "for i in range(len(Person_score)):\n",
        "  if SA_list[i]==0 and MH_list[i]==0:\n",
        "    SAMH['NAGood']+=1\n",
        "  elif SA_list[i]==0 and MH_list[i]==1:\n",
        "    SAMH['NABad']+=1\n",
        "  elif SA_list[i]==1 and MH_list[i]==0:\n",
        "    SAMH['AGood']+=1\n",
        "  elif SA_list[i]==1 and MH_list[i]==1:\n",
        "    SAMH['ABad']+=1\n",
        "  else:\n",
        "    pass\n",
        "\n",
        "for i in range(len(Person_score)):\n",
        "  if SA_list[i]==0 and AP_list[i]==0:\n",
        "    SAAP['NAGood']+=1\n",
        "  elif SA_list[i]==0 and AP_list[i]==1:\n",
        "    SAAP['NABad']+=1\n",
        "  elif SA_list[i]==1 and AP_list[i]==0:\n",
        "    SAAP['AGood']+=1\n",
        "  elif SA_list[i]==1 and AP_list[i]==1:\n",
        "    SAAP['ABad']+=1\n",
        "  else:\n",
        "    pass\n",
        "\n",
        "print(atype,SAMH,SAAP,sep='\\n')"
      ],
      "metadata": {
        "id": "JE5-Ko3PWJt3"
      },
      "execution_count": null,
      "outputs": []
    },
    {
      "cell_type": "code",
      "source": [
        "### CORRELATION\n",
        "from scipy.stats import pearsonr   \n",
        "print(atype)  \n",
        "print('Corrrelation b/w SA and MH:{} \\t\\tp value: {}'.format(pearsonr(SA_list,MH_list)[0],pearsonr(SA_list,MH_list)[1]))\n",
        "print('Corrrelation b/w SA and AP:{} \\t\\tp value: {}'.format(pearsonr(SA_list,AP_list)[0],pearsonr(SA_list,AP_list)[1]))"
      ],
      "metadata": {
        "id": "nDyKeXKeWLlV"
      },
      "execution_count": null,
      "outputs": []
    },
    {
      "cell_type": "markdown",
      "source": [
        "#EXTRA"
      ],
      "metadata": {
        "id": "SJc5jyAFwfk7"
      }
    },
    {
      "cell_type": "code",
      "source": [
        "age_list = sorted(df['Age'].to_list())\n",
        "print(type(age_list),age_list)"
      ],
      "metadata": {
        "id": "k3AANc-r8y5l"
      },
      "execution_count": null,
      "outputs": []
    },
    {
      "cell_type": "code",
      "source": [
        "age_dic = {}\n",
        "for i in range(len(age_list)):\n",
        "  if age_list[i] not in age_dic.keys():\n",
        "    age_dic[age_list[i]]=1\n",
        "  else:\n",
        "    age_dic[age_list[i]]+=1\n",
        "\n",
        "print(age_dic)\n"
      ],
      "metadata": {
        "id": "gGCG7rUK-Cjv"
      },
      "execution_count": null,
      "outputs": []
    },
    {
      "cell_type": "code",
      "source": [],
      "metadata": {
        "id": "QjuNLlGkI_DS"
      },
      "execution_count": null,
      "outputs": []
    },
    {
      "cell_type": "code",
      "source": [],
      "metadata": {
        "id": "_0QFmXRiHKlO"
      },
      "execution_count": null,
      "outputs": []
    },
    {
      "cell_type": "code",
      "source": [
        "col_list = df['College / University / Place of Work'].to_list()\n",
        "\n",
        "for i in range(len(col_list)):\n",
        "  col_list[i]=col_list[i].strip()\n",
        "  col_list[i]=col_list[i].lower()\n",
        "\n",
        "print(type(col_list),col_list)\n",
        "\n",
        "for i in range(len(col_list)):\n",
        "  if re.search('iit patna|iitp|indian institute of technology patna|indian institute of technology, patna|iit p|indian institute of technology , patna',col_list[i]):\n",
        "    col_list[i]='iitp'\n",
        "  elif re.search('institute of engineering and management, kolkata|iem',col_list[i]):\n",
        "    col_list[i]='iem'\n",
        "  elif re.search('heritage',col_list[i]):\n",
        "    col_list[i]='heritage'\n",
        "  elif re.search('rungta',col_list[i]):\n",
        "    col_list[i]='rungta'\n",
        "\n",
        "\n",
        "col_dic = {}\n",
        "for i in range(len(col_list)):\n",
        "  if col_list[i] not in col_dic.keys():\n",
        "    col_dic[col_list[i]]=1\n",
        "  else:\n",
        "    col_dic[col_list[i]]+=1\n",
        "\n",
        "print(len(col_dic),col_dic)\n"
      ],
      "metadata": {
        "id": "7yDXqj-MHPXa"
      },
      "execution_count": null,
      "outputs": []
    },
    {
      "cell_type": "code",
      "source": [
        "print(resp_dic['Name'])"
      ],
      "metadata": {
        "id": "0aWRVwwNNddk"
      },
      "execution_count": null,
      "outputs": []
    },
    {
      "cell_type": "code",
      "source": [
        "ME_list=[]\n",
        "\n",
        "for i in range(df.shape[0]):\n",
        "  if re.search('iit patna|iitp|indian institute of technology patna|indian institute of technology, patna|iit p|indian institute of technology , patna',resp_dic['College / University / Place of Work'][i].lower()):\n",
        "    if re.search('me',resp_dic['Stream / Major / Work Area'][i].lower()):\n",
        "        ME_list.append(resp_dic['Name'][i].lower())\n",
        "\n",
        "print(len(ME_list),ME_list)"
      ],
      "metadata": {
        "id": "QjGzpVZDEaJX"
      },
      "execution_count": null,
      "outputs": []
    },
    {
      "cell_type": "code",
      "source": [],
      "metadata": {
        "id": "Gi_U7IBCNUy9"
      },
      "execution_count": null,
      "outputs": []
    },
    {
      "cell_type": "code",
      "source": [],
      "metadata": {
        "id": "1qOpPE1jB0r7"
      },
      "execution_count": null,
      "outputs": []
    }
  ]
}